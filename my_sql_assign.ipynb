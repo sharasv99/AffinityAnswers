{
  "nbformat": 4,
  "nbformat_minor": 0,
  "metadata": {
    "colab": {
      "provenance": []
    },
    "kernelspec": {
      "name": "python3",
      "display_name": "Python 3"
    },
    "language_info": {
      "name": "python"
    }
  },
  "cells": [
    {
      "cell_type": "code",
      "execution_count": 6,
      "metadata": {
        "id": "CjGjqoEV0bwC"
      },
      "outputs": [],
      "source": [
        "import mysql.connector\n",
        "\n",
        "connection = mysql.connector.connect(\n",
        "    host=\"mysql-rfam-public.ebi.ac.uk\",\n",
        "    port=4497,\n",
        "    user=\"rfamro\",\n",
        "    database=\"Rfam\"\n",
        ")"
      ]
    },
    {
      "cell_type": "code",
      "source": [
        "cursor = connection.cursor()"
      ],
      "metadata": {
        "id": "ebJl0OZH0wRu"
      },
      "execution_count": 8,
      "outputs": []
    },
    {
      "cell_type": "code",
      "source": [
        "cursor.execute(\"SELECT ncbi_id, species FROM taxonomy WHERE species LIKE '%Panthera tigris%';\")\n",
        "rows = cursor.fetchall()\n",
        "for row in rows:\n",
        "  print(row)"
      ],
      "metadata": {
        "colab": {
          "base_uri": "https://localhost:8080/"
        },
        "id": "JCtTnmGF0wPT",
        "outputId": "101e40b8-59e6-4f16-c516-614cae82b103"
      },
      "execution_count": 11,
      "outputs": [
        {
          "output_type": "stream",
          "name": "stdout",
          "text": [
            "(9694, 'Panthera tigris (tiger)')\n",
            "(74533, 'Panthera tigris altaica (Amur tiger)')\n",
            "(253258, 'Panthera tigris amoyensis (Amoy tiger)')\n",
            "(74534, 'Panthera tigris corbetti (Indochinese tiger)')\n",
            "(419130, 'Panthera tigris jacksoni (Malayan tiger)')\n",
            "(644771, 'Panthera tigris sondaica (Javan tiger)')\n",
            "(9695, 'Panthera tigris sumatrae (Sumatran tiger)')\n",
            "(74535, 'Panthera tigris tigris (Bengal tiger)')\n"
          ]
        }
      ]
    },
    {
      "cell_type": "code",
      "source": [
        "cursor.execute(\"SELECT ncbi_id,species FROM taxonomy WHERE species LIKE '%Sumatran tiger%';\")\n",
        "rows = cursor.fetchall()\n",
        "for row in rows:\n",
        "  print(row)"
      ],
      "metadata": {
        "colab": {
          "base_uri": "https://localhost:8080/"
        },
        "id": "jHGUXvH20wNI",
        "outputId": "6d2d59ab-def6-4475-dda5-9e0b230a474b"
      },
      "execution_count": 12,
      "outputs": [
        {
          "output_type": "stream",
          "name": "stdout",
          "text": [
            "(9695, 'Panthera tigris sumatrae (Sumatran tiger)')\n"
          ]
        }
      ]
    },
    {
      "cell_type": "markdown",
      "source": [
        "b. Find all the columns that can be used to connect the tables in the given database.\n",
        "\n",
        "\n",
        "1.ncbi_id\n",
        "2.clan_acc\n",
        "3.rfam_acc\n",
        "4.rfamseq_acc"
      ],
      "metadata": {
        "id": "8VWwvixa5-5M"
      }
    },
    {
      "cell_type": "code",
      "source": [
        "cursor = connection.cursor()\n",
        "cursor.execute(\"SELECT t.species, MAX(r.length) FROM taxonomy t INNER JOIN rfamseq r ON t.ncbi_id = r.ncbi_id WHERE t.species LIKE 'Oryza sativa%' GROUP BY t.species; \")\n",
        "rows = cursor.fetchall()\n",
        "for row in rows:\n",
        "    print(row)"
      ],
      "metadata": {
        "colab": {
          "base_uri": "https://localhost:8080/"
        },
        "id": "OXNt5CbX0wK4",
        "outputId": "1f64c829-868f-4cd1-dc78-047e5954adec"
      },
      "execution_count": 14,
      "outputs": [
        {
          "output_type": "stream",
          "name": "stdout",
          "text": [
            "('Oryza sativa (rice)', 339972)\n",
            "('Oryza sativa endornavirus (isolate Japan)', 13952)\n",
            "('Oryza sativa Indica Group', 47244934)\n",
            "('Oryza sativa Japonica Group', 43270923)\n"
          ]
        }
      ]
    },
    {
      "cell_type": "code",
      "source": [
        "cursor = connection.cursor()\n",
        "cursor.execute(\"SELECT t.species,r.accession, MAX(r.length) AS max_length FROM taxonomy t INNER JOIN rfamseq r ON t.ncbi_id = r.ncbi_id WHERE r.length > 1000000 GROUP BY t.species ORDER BY max_length DESC LIMIT 15 OFFSET 120\")\n",
        "rows = cursor.fetchall()\n",
        "for row in rows:\n",
        "    print(row)"
      ],
      "metadata": {
        "colab": {
          "base_uri": "https://localhost:8080/"
        },
        "id": "Xsgn_fjL0wIC",
        "outputId": "3e35c256-cad7-4b93-a862-6fb730a124e4"
      },
      "execution_count": 15,
      "outputs": [
        {
          "output_type": "stream",
          "name": "stdout",
          "text": [
            "('Anopheles gambiae str. PEST', 'AAAB01008807', 23099915)\n",
            "('Anopheles dirus', 'KB672490', 22947322)\n",
            "('Hymenolepis microstoma', 'LN906329', 22338478)\n",
            "('Eutrema salsugineum', 'KI517384', 21755756)\n",
            "(\"Propithecus coquereli (Coquerel's sifaka)\", 'KQ022624', 21700459)\n",
            "('Caenorhabditis briggsae', 'FR847112', 21540570)\n",
            "('Drosophila sechellia', 'CH480815', 21120651)\n",
            "('Caenorhabditis elegans', 'BX284601', 20924180)\n",
            "('Sorex araneus (European shrew)', 'JH798183', 20915803)\n",
            "('Anopheles atroparvus', 'KI421882', 20238125)\n",
            "('Echinococcus multilocularis', 'LN902841', 20116479)\n",
            "('Spermophilus parryii (Arctic ground squirrel)', 'QVIC01000005', 20065445)\n",
            "('Capsella rubella', 'KB870805', 19566579)\n",
            "('Mustela putorius furo (domestic ferret)', 'GL896918', 17988942)\n",
            "('Erinaceus europaeus (western European hedgehog)', 'JH835289', 17429815)\n"
          ]
        }
      ]
    }
  ]
}
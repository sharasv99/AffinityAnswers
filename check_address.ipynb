{
  "nbformat": 4,
  "nbformat_minor": 0,
  "metadata": {
    "colab": {
      "provenance": []
    },
    "kernelspec": {
      "name": "python3",
      "display_name": "Python 3"
    },
    "language_info": {
      "name": "python"
    }
  },
  "cells": [
    {
      "cell_type": "code",
      "source": [
        "import requests\n",
        "import json\n",
        "import re\n",
        "\n",
        "# Function to extract a 6-digit PIN code from the address string\n",
        "def extract_pincode(address):\n",
        "    # Define a regex pattern to match 6-digit PIN codes\n",
        "    pattern = r\"\\b\\d{6}\\b\"\n",
        "    # Use regex to find all 6-digit numbers in the address string\n",
        "    matches = re.findall(pattern, address)\n",
        "    # Return the last match as the PIN code\n",
        "    return matches[-1] if matches else \"\"\n",
        "\n",
        "# Function to validate a PIN code by checking if it corresponds to the given address\n",
        "def validate_pincode(pincode, address):\n",
        "    if len(pincode) == 6:\n",
        "        # Create the URL for the postalpincode.in API\n",
        "        api_url = f\"https://api.postalpincode.in/pincode/{pincode}\"\n",
        "        # Send a GET request to fetch information for the PIN code\n",
        "        response = requests.get(api_url)\n",
        "\n",
        "        if response.status_code == 200:\n",
        "            data = response.json()\n",
        "            # Check if the API response indicates success\n",
        "            if data and data[0]['Status'] == 'Success':\n",
        "                # Iterate through post offices associated with the PIN code\n",
        "                for post_office in data[0]['PostOffice']:\n",
        "                    # Check if the post office name is found in the address (case-insensitive)\n",
        "                    if post_office['Name'].lower() in address.lower():\n",
        "                        return True\n",
        "    return False\n",
        "\n",
        "# Main function to take user input and perform address validation\n",
        "def main():\n",
        "    address = input(\"Enter your address:\\n\")\n",
        "    pincode = extract_pincode(address)\n",
        "\n",
        "    if validate_pincode(pincode, address):\n",
        "        print(\"Address is correct\")\n",
        "    else:\n",
        "        print(\"Address is not correct\")\n",
        "\n",
        "if __name__ == \"__main__\":\n",
        "    main()\n"
      ],
      "metadata": {
        "colab": {
          "base_uri": "https://localhost:8080/"
        },
        "id": "Gu3eqWRlmZ95",
        "outputId": "f71ce947-229f-47f7-90e7-e7c09d4992c3"
      },
      "execution_count": 6,
      "outputs": [
        {
          "output_type": "stream",
          "name": "stdout",
          "text": [
            "Enter your address:\n",
            "Colony, Bengaluru, Karnataka 560095\n",
            "Address is not correct\n"
          ]
        }
      ]
    },
    {
      "cell_type": "markdown",
      "source": [
        "Correct addresses:\n",
        "\n",
        "*   2nd Phase, 374/B, 80 Feet Rd, Mysore Bank Colony, Banashankari 3rd Stage, Srinivasa Nagar, Bengaluru, Karnataka 560050\n",
        "*   80 Feet Rd, State Bank Colony, Banashankari 3rd Stage, Srinivasa Nagar, Bangalore. 560050\n",
        "*   21-19/1, New gunj, Kosgi, 509339\n",
        "\n",
        "wrong adresses:\n",
        "\n",
        "*   2nd Phase, 374/B, 80 Feet Rd, Mysore Bank Colony, Banashankari 3rd Stage, Srinivasa Nagar, Bengaluru, Karnataka 560095\n",
        "*   Colony, Bengaluru, Karnataka 560095\n",
        "*   Address with no pin\n",
        "*   empty string\n",
        "\n",
        "\n",
        "\n",
        "\n",
        "\n",
        "\n",
        "\n",
        "\n",
        "\n"
      ],
      "metadata": {
        "id": "Pjk_VmMi50nC"
      }
    },
    {
      "cell_type": "code",
      "source": [],
      "metadata": {
        "id": "85zB7XoamZ7B"
      },
      "execution_count": null,
      "outputs": []
    },
    {
      "cell_type": "code",
      "source": [],
      "metadata": {
        "id": "HznIgtA9mZuN"
      },
      "execution_count": null,
      "outputs": []
    },
    {
      "cell_type": "code",
      "source": [],
      "metadata": {
        "id": "FBkPutWumZra"
      },
      "execution_count": null,
      "outputs": []
    },
    {
      "cell_type": "code",
      "source": [],
      "metadata": {
        "id": "EeEAxJC1mZno"
      },
      "execution_count": null,
      "outputs": []
    }
  ]
}